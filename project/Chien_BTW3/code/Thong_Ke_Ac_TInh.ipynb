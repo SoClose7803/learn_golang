{
 "cells": [
  {
   "cell_type": "code",
   "execution_count": null,
   "metadata": {
    "vscode": {
     "languageId": "plaintext"
    }
   },
   "outputs": [],
   "source": [
    "import os\n",
    "import json\n",
    "\n",
    "# Đường dẫn đến thư mục dữ liệu\n",
    "dataset_path = \"/kaggle/input/btxrd-data/BTXRD/\"\n",
    "json_dir = os.path.join(dataset_path, \"Annotations\")\n",
    "\n",
    "# Lấy danh sách tất cả file JSON\n",
    "json_files = [f for f in os.listdir(json_dir) if f.endswith(\".json\")]\n",
    "\n",
    "# Danh sách các khối u ác tính\n",
    "malignant_labels = [\n",
    "    \"osteosarcoma\", \"ewing's sarcoma\", \"chondrosarcoma\", \"fibrosarcoma\",\n",
    "    \"malignant\", \"metastatic\", \"multiple myeloma\",\n",
    "    \"giant cell tumor\", \"dedifferentiated chondrosarcoma\"\n",
    "]\n",
    "\n",
    "# Biến đếm số lượng khối u\n",
    "benign_count = 0\n",
    "malignant_count = 0\n",
    "\n",
    "# Duyệt qua từng file JSON\n",
    "for json_file in json_files:\n",
    "    json_path = os.path.join(json_dir, json_file)\n",
    "\n",
    "    # Đọc dữ liệu từ JSON\n",
    "    with open(json_path, \"r\") as file:\n",
    "        data = json.load(file)\n",
    "\n",
    "    # Kiểm tra và phân loại khối u\n",
    "    if \"shapes\" in data:\n",
    "        for shape in data[\"shapes\"]:\n",
    "            label = shape.get(\"label\", \"\").lower()  # Chuyển nhãn về chữ thường\n",
    "\n",
    "            # Nếu nhãn thuộc danh sách ác tính\n",
    "            if any(word in label for word in malignant_labels):\n",
    "                malignant_count += 1\n",
    "            else:\n",
    "                benign_count += 1  # Mặc định xếp vào nhóm lành tính nếu không phải ác tính\n",
    "\n",
    "# In kết quả\n",
    "print(f\"📌 Tổng số khối u lành tính: {benign_count}\")\n",
    "print(f\"📌 Tổng số khối u ác tính: {malignant_count}\")\n"
   ]
  }
 ],
 "metadata": {
  "language_info": {
   "name": "python"
  }
 },
 "nbformat": 4,
 "nbformat_minor": 2
}
